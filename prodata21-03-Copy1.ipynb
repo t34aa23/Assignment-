{
 "cells": [
  {
   "cell_type": "code",
   "execution_count": 1,
   "id": "9eae2881",
   "metadata": {},
   "outputs": [],
   "source": [
    "import pandas as pd\n",
    "import os"
   ]
  },
  {
   "cell_type": "code",
   "execution_count": 17,
   "id": "278701be",
   "metadata": {
    "collapsed": true
   },
   "outputs": [
    {
     "name": "stdout",
     "output_type": "stream",
     "text": [
      "      Gene                                  WildType.Sequence  \\\n",
      "0      Ah3  TGCCCGTCGTCAGAGGGTGGACGGTTACTATCAACGTCCGCTTCCA...   \n",
      "1   Alli2r  TTCTAACATGCGATCCTAGCGAGGGTTGTGTCGGACGTGAGCGGTG...   \n",
      "2    Alli8  TTTACCAGAATCTATAACAGTATATGGCAAAATTCTCCCGCGTACT...   \n",
      "3  Anap7c1  GGGCGCATAGTAGGCAAGACACCTATTGCTAAAAAACGTCCTGGAC...   \n",
      "4   App1l8  ATCTTATCGTACACTATTAATAAACTAGCGCTGATTCGAGTCGCTC...   \n",
      "\n",
      "                                     Mutant.Sequence  mRNA.Expression.WT.Rep1  \\\n",
      "0  TGCCCGTCGTCAGAGGGTGGACGGTTACTATCAACGTCCGCTTCCA...             3.183135e+08   \n",
      "1  TTCTAACATGCGATCCTAGCGAGGGTTGTGTCGGACGTGAGCGGTG...             1.095715e+03   \n",
      "2  TTTACCAGAATCTATAACAGTATATGGCAAAATTCTCCCGCGTACT...             6.389135e+01   \n",
      "3  GGGCGCATAGTAGGCAAGACACCTATTGCTAAAAAACGTCCTGGAC...             1.629126e+00   \n",
      "4  ATCTTATCGTACACTATTAATAAACTAGCGCTGATTCGAGTCGCTC...             3.619328e+00   \n",
      "\n",
      "   mRNA.Expression.WT.Rep2  mRNA.Expression.WT.Rep3  mRNA.Expression.Mut.Rep1  \\\n",
      "0                26.177081                16.735333              3.183135e+08   \n",
      "1                 2.836341               102.980795              1.096189e+03   \n",
      "2                 5.165643                13.914518              6.275914e+01   \n",
      "3                20.977798                 7.266207             -3.674294e+00   \n",
      "4                 7.207154                 1.347365              3.898224e+00   \n",
      "\n",
      "   mRNA.Expression.Mut.Rep2  mRNA.Expression.Mut.Rep3  \\\n",
      "0                 27.769621                 17.761754   \n",
      "1                  1.967358                103.294908   \n",
      "2                  5.012645                 13.013207   \n",
      "3               -109.439914                 -5.597223   \n",
      "4                  6.585581                  0.413255   \n",
      "\n",
      "   Protein.Expression.WT.Rep1  ...  Protein.Expression.WT.Rep3  \\\n",
      "0                     11685.0  ...                     37123.0   \n",
      "1                     12831.0  ...                     23695.0   \n",
      "2                     14317.0  ...                     42445.0   \n",
      "3                     25803.0  ...                      4047.0   \n",
      "4                     44784.0  ...                      3517.0   \n",
      "\n",
      "   Protein.Expression.Mut.Rep1  Protein.Expression.Mut.Rep2  \\\n",
      "0                      11693.0                      26726.0   \n",
      "1                      12848.0                      28360.0   \n",
      "2                      14334.0                       4914.0   \n",
      "3                       8711.0                      21503.0   \n",
      "4                      44785.0                      32607.0   \n",
      "\n",
      "   Protein.Expression.Mut.Rep3  CellViability.WT.Rep1  CellViability.WT.Rep2  \\\n",
      "0                      37133.0               0.261116               0.726898   \n",
      "1                      23705.0               0.638670               0.069546   \n",
      "2                      42448.0               0.062666               0.090101   \n",
      "3                          0.0               0.528095               0.765748   \n",
      "4                       3530.0               0.412541               0.059328   \n",
      "\n",
      "   CellViability.WT.Rep3  CellViability.Mut.Rep1  CellViability.Mut.Rep2  \\\n",
      "0               0.633374                0.338555                0.750318   \n",
      "1               0.052844                0.626906                0.193052   \n",
      "2               0.256835                0.074965                0.163613   \n",
      "3               0.273578                0.000000                0.000000   \n",
      "4               0.476712                0.184925                0.017589   \n",
      "\n",
      "   CellViability.Mut.Rep3  \n",
      "0                0.710077  \n",
      "1               -0.124587  \n",
      "2                0.220555  \n",
      "3                0.000000  \n",
      "4                0.460078  \n",
      "\n",
      "[5 rows x 21 columns]\n"
     ]
    }
   ],
   "source": [
    "import pandas as pd\n",
    "import os\n",
    "\n",
    "\n",
    "def process_data_file(file_path):\n",
    "    df = pd.read_csv(file_path, sep='\\t')\n",
    "    return df\n",
    "\n",
    "\n",
    "data_dir = 'prodata'\n",
    "\n",
    "\n",
    "data_list = []\n",
    "for filename in os.listdir(data_dir):\n",
    "    if filename.endswith('.txt'):  \n",
    "        file_path = os.path.join(data_dir, filename)\n",
    "        data = process_data_file(file_path)\n",
    "        data_list.append(data)\n",
    "\n",
    "\n",
    "combined_data = pd.concat(data_list, ignore_index=True)\n",
    "\n",
    "\n",
    "print(combined_data.head())"
   ]
  },
  {
   "cell_type": "code",
   "execution_count": 20,
   "id": "efb1c9f1",
   "metadata": {
    "collapsed": true
   },
   "outputs": [
    {
     "name": "stdout",
     "output_type": "stream",
     "text": [
      "Index(['Gene', 'WildType.Sequence', 'Mutant.Sequence',\n",
      "       'mRNA.Expression.WT.Rep1', 'mRNA.Expression.WT.Rep2',\n",
      "       'mRNA.Expression.WT.Rep3', 'mRNA.Expression.Mut.Rep1',\n",
      "       'mRNA.Expression.Mut.Rep2', 'mRNA.Expression.Mut.Rep3',\n",
      "       'Protein.Expression.WT.Rep1', 'Protein.Expression.WT.Rep2',\n",
      "       'Protein.Expression.WT.Rep3', 'Protein.Expression.Mut.Rep1',\n",
      "       'Protein.Expression.Mut.Rep2', 'Protein.Expression.Mut.Rep3',\n",
      "       'CellViability.WT.Rep1', 'CellViability.WT.Rep2',\n",
      "       'CellViability.WT.Rep3', 'CellViability.Mut.Rep1',\n",
      "       'CellViability.Mut.Rep2', 'CellViability.Mut.Rep3'],\n",
      "      dtype='object')\n"
     ]
    }
   ],
   "source": [
    "print(combined_data.columns)"
   ]
  },
  {
   "cell_type": "code",
   "execution_count": 21,
   "id": "ea70296d",
   "metadata": {
    "collapsed": true
   },
   "outputs": [
    {
     "name": "stdout",
     "output_type": "stream",
     "text": [
      "        Gene                                  WildType.Sequence  \\\n",
      "0        Ah3  TGCCCGTCGTCAGAGGGTGGACGGTTACTATCAACGTCCGCTTCCA...   \n",
      "1     Alli2r  TTCTAACATGCGATCCTAGCGAGGGTTGTGTCGGACGTGAGCGGTG...   \n",
      "2      Alli8  TTTACCAGAATCTATAACAGTATATGGCAAAATTCTCCCGCGTACT...   \n",
      "3    Anap7c1  GGGCGCATAGTAGGCAAGACACCTATTGCTAAAAAACGTCCTGGAC...   \n",
      "4     App1l8  ATCTTATCGTACACTATTAATAAACTAGCGCTGATTCGAGTCGCTC...   \n",
      "5       App8  CGGGAAGCTAACTTACTCATAAAGCCCGGTTCGAATAACATTTTGA...   \n",
      "6    Avon1a5  ACTCCATGGCCATTTACCGGGGATTTCAACGCGATACTCCTTAGAT...   \n",
      "7      Avon4  TGAATCTAAGATTAAGTGGATATCGCCTTGACTTCTTTATCCATCC...   \n",
      "8     Ben3l6  CAACTTTAAGGAAGATGGTCGGTGCTTGATTCGTAAATCTGGTGTA...   \n",
      "9       Bma9  CTACTTCCCCAAGCTCTTGAAATCTCGAAACATATTGTGCTGGTCC...   \n",
      "10  Cairn1b8  ATCGCTAAGTGTATCCTGCACAGGTTAATAGAATGAGGATATTCGT...   \n",
      "11  Cairn3a2  GCACTATGGAACAAATCTCCGTAGGATAGCCAGAGTAAATCGGCCT...   \n",
      "12    Cairn6  GATTGCTAGTGGTAGTGGTGGCCCGGGTCGCCGTCCGCCACTCTTT...   \n",
      "13    Clach6  AAATGACATCCTCCGGGGAACGATGCAGGCCCAGTAAGCCAATACT...   \n",
      "14    Daz2b7  CGATAAACTGAGATTGGGGGGACCCCTCTCATCCCCCACTCCTAAA...   \n",
      "15   Dsgt9a1  ATAATCGCTGGTGTACTTCAAGTTACGACTTGAGTACGCATATCCA...   \n",
      "16   Emco9b6  GCAGTTACACCGAACCCCGACCGCACAAGTCACCGCCAGTGAGCGA...   \n",
      "17    Euk4r4  GAGAGAATCCGTACTAGACCAGTAGCAGAACCTCGATTGCTGTATA...   \n",
      "18   Ever6b6  AAGTTATTCTACGGGCCCTCTATTGAATAGATAACCCAGGGGCGTG...   \n",
      "19    Everr1  ATCTAGATGTGAATATATATATTCAAAGTTATATATGAAGTGCCCT...   \n",
      "20    Fab6l6  GGAGGTTCCAAAATAATATCGTCACCCCGGTTAGGTGTGGGTAAAA...   \n",
      "21    Fab9r3  CTTAACTCCAAACGCCCAATATTGTGTTGCTGCTAATAGCCAGCTG...   \n",
      "22     Ghos8  TATTGCCAGCTGTTGGAACCCAACCCTCCCGCAGAGTGCCCGGATT...   \n",
      "23   Gorm6b6  AACACTGTGGTTGACCCATGAGGATGGAATCCGTCATTTTAACTGT...   \n",
      "24      Got9  TTAGGTCCCTCTTCTCAAGATGAGCCTTACTCGCGGTCTATGGGGG...   \n",
      "25      Ist3  ATCAATAATGGGACGAAGCGTTAGCGTCTGCTGCGCTATCGTCATA...   \n",
      "26    Ist9a2  TTTGTTGATATCTTCGGGAGGGCTAGATGGGACCAAGAGGGTTCCG...   \n",
      "27    Ist9a7  AACATCCTTATATATGAATTTTACTGGATTGGTCAAGGAGAGTGCG...   \n",
      "28     Ist9a  AATATATATATCCGCGATAGATATAATTTTTCTGTGTGCCAGTCGC...   \n",
      "29   Jams9r2  AACCTGGTAGTTCCAAACAGCGATCATAAAATACTTCTGTTGTGCC...   \n",
      "30    Jok4a3  TATGAATAATTTCGAAAGACCGTATCACTGTGTGACCTGTAGTCCC...   \n",
      "31  Jtkir5r8  TACCATCCCTAGCCAAATGGACATCATGCAGGCCGTTTCTCATTAA...   \n",
      "32  Jtkir8l4  TTGACGTTCGTCCAGCGATTTTGACGTACGTATAAAGAGCATCTGG...   \n",
      "33        K2  GGCAATAAATTACCATTGGAGAAGATGGGAGACCTCGTAGCGGTGA...   \n",
      "34      K7c7  AATCGTTGACGGTGTGTACGCGCCCGACCCGGTGAGATGTTATGGA...   \n",
      "35       Kl8  CGACACCGTACTCTGTTGAGTGAACCTCGGCATCTCCCGAAGCTTC...   \n",
      "36     Mdor8  GCACAAATACCAAGGGCAAGTTTCTCAGGCGTTCTGGAACTAACTA...   \n",
      "37   Nect1c1  ATACCTCTTTGGCTCCAATCCTAGTAAGGACCGAGTCGTTTATCTT...   \n",
      "38   Nect5r3  CTTGAGGGGTGAACTGTGATCCAAGATAACAGATCTTTTTCAGGGG...   \n",
      "39    Oyu3a9  GGTACGAGCTCCGTCCTATGTCGACCGGGAGCTGGAGCCCCAGCTG...   \n",
      "40   Pear4r9  GGTAGTATTAGAGAGAACCTCACCGGATTCGTAGATCGTGGGACCA...   \n",
      "41   Pear9a7  ATTGAATCGCCATGGTCCCCACACTAGATGGGCGCGAAGTCATTGC...   \n",
      "42    Peara8  CACTCTAAGTATTATCTGTTGGTGTCACCTGCATGAAAGTAAGCGG...   \n",
      "43    Polge8  GACGGTCCTCAATCAATAAGCAGCGCGCCTGTCCGGGCTTGGACAC...   \n",
      "44      Ren8  TTAGCCGTTCCGCTTACAACGACGAATTGGGCACGTTCATCAAGTT...   \n",
      "45      Thxr  CATACGTAATGCATCAATCTTCGACGATGGGGATTATCTCGGACCT...   \n",
      "46    Try3a8  GCCGGTATCAAGAAGTGAGTGTCTCAGTCATGGGGTGTCCGTGTAT...   \n",
      "47   Urna4r5  TTGACGTCTCAACGAAACAGCCCGCGTCAGTCGGGTAGGGCCGCGA...   \n",
      "48     Urna8  TATGTCTGGCTACGTTGAGAGTTTTGGAGTTGCATCTTCCTTAGTA...   \n",
      "\n",
      "                                      Mutant.Sequence  \\\n",
      "0   TGCCCGTCGTCAGAGGGTGGACGGTTACTATCAACGTCCGCTTCCA...   \n",
      "1   TTCTAACATGCGATCCTAGCGAGGGTTGTGTCGGACGTGAGCGGTG...   \n",
      "2   TTTACCAGAATCTATAACAGTATATGGCAAAATTCTCCCGCGTACT...   \n",
      "3   GGGCGCATAGTAGGCAAGACACCTATTGCTAAAAAACGTCCTGGAC...   \n",
      "4   ATCTTATCGTACACTATTAATAAACTAGCGCTGATTCGAGTCGCTC...   \n",
      "5   CGGGAAGCTAACTTACTCATAAAGCCCGGTTCGAATAACATTTTGA...   \n",
      "6   ACTCCATGGCCATTTACCGGGGATTTCAACGCGATACTCCTTAGAT...   \n",
      "7   TGAATCTAAGATTAAGTGGATATCGCCTTGACTTCTTTATCCATCC...   \n",
      "8   CAACTTTAAGGAAGATGGTCGGTGCTTGATTCGTAAATCTGGTGTA...   \n",
      "9   CTACTTCCCCAAGCTCTTGAAATCTCGAAACATATTGTGCTGGTCC...   \n",
      "10  ATCGCTAAGTGTATCCTGCACAGGTTAATAGAATGAGGATATTCGT...   \n",
      "11  GCACTATGGAACAAATCTCCGTAGGATAGCCAGAGTAAATCGGCCT...   \n",
      "12  GATTGCTAGTGGTAGTGGTGGCCCGGGTCGCCGTCCGCCACTCTTT...   \n",
      "13  AAATGACATCCTCCGGGGAACGATGCAGGCCCAGTAAGCCAATACT...   \n",
      "14  CGATAAACTGAGATTGGGGGGACCCCTCTCATCCCCCACTCCTAAA...   \n",
      "15  ATAATCGCTGGTGTACTTCAAGTTACGACTTGAGTACGCATATCCA...   \n",
      "16  GCAGTTACACCGAACCCCGACCGCACAAGTCACCGCCAGTGAGCGA...   \n",
      "17  GAGAGAATCCGTACTAGACCAGTAGCAGAACCTCGATTGCTGTATA...   \n",
      "18  AAGTTATTCTACGGGCCCTCTATTGAATAGATAACCCAGGGGCGTG...   \n",
      "19  ATCTAGATGTGAATATATATATTCAAAGTTATATATGAAGTGCCCT...   \n",
      "20  GGAGGTTCCAAAATAATATCGTCACCCCGGTTAGGTGTGGGTAAAA...   \n",
      "21  CTTAACTCCAAACGCCCAATATTGTGTTGCTGCTAATAGCCAGCTG...   \n",
      "22  TATTGCCAGCTGTTGGAACCCAACCCTCCCGCAGAGTGCCCGGATT...   \n",
      "23  AACACTGTGGTTGACCCATGAGGATGGAATCCGTCATTTTAACTGT...   \n",
      "24  TTAGGTCCCTCTTCTCAAGATGAGCCTTACTCGCGGTCTATGGGGG...   \n",
      "25  ATCAATAATGGGACGAAGCGTTAGCGTCTGCTGCGCTATCGTCATA...   \n",
      "26  TCACGTTAATACCAGGCCCTGGTCATACCACGAGCAAGAGATACGA...   \n",
      "27  AACATCCTTATATATGAATTTTACTGGATTGGTCAAGGAGAGTGCG...   \n",
      "28  AATATATATATCCGCGATAGATATAATGTGTGCCAGTCGCTCCTAC...   \n",
      "29  AACCTGGTAGTTCCAAACAGCGATCATAAAATACTTCTGTTGTGCC...   \n",
      "30  TATGAATAATTTCGAAAGACCGTATCACTGTGTGACCTGTAGTCCC...   \n",
      "31  TACCATCCCTAGCCAAATGGACATCATGCAGGCCGTTTCTCATTAA...   \n",
      "32  TTGACGTTCGTCCAGCGATTTTGACGTACGTATAAAGAGCATCTGG...   \n",
      "33  GGCAATAAATTACCATTGGAGAAGATGGGAGACCTCGTAGCGGTGA...   \n",
      "34  AATCGTTGACGGTGTGTACGCGCCCGACCCGGTGAGATGTTATGGA...   \n",
      "35  CGACACCGTACTCTGTTGAGTGAACCTCGGCATCTCCCGAAGCTTC...   \n",
      "36  GCACAAATACCAAGGGCAAGTTTCTCAGGCGTTCTGGAACTAACTA...   \n",
      "37  ATACCTCTTTGGCTCCAATCCTAGTAAGGACCGAGTCGTTTATCTT...   \n",
      "38  CTTGAGGGGTGAACTGTGATCCAAGATAACAGATCTTTTTCAGGGG...   \n",
      "39  TCACAATTCCGGCGTGACCATAATATCCGGGGTAGAACTCAACATC...   \n",
      "40  GGTAGTATTAGAGAGAACCTCACCGGATTCGTAGATCGTGGGACCA...   \n",
      "41  ATTGAATCGCCATGGTCCCCACACTAGATGGGCGCGAAGTCATTGC...   \n",
      "42  CACTCTAAGTATTATCTGTTGGTGTCACCTGCATGAAAGTAAGCGG...   \n",
      "43  GACGGTCCTCAATCAATAAGCAGCGCGCCTGTCCGGGCTTGGACAC...   \n",
      "44  TTAGCCGTTCCGCTTACAACGACGAATTGGGCACGTTCATCAAGTT...   \n",
      "45  CATACGTAATGCATCAATCTTCGACGATGGGGATTATCTCGGACCT...   \n",
      "46  GCCGGTATCAAGAAGTGAGTGTCTCAGTCATGGGGTGTCCGTGTAT...   \n",
      "47  TTGACGTCTCAACGAAACAGCCCGCGTCAGTCGGGTAGGGCCGCGA...   \n",
      "48  TATGTCTGGCTACGTTGAGAGTTTTGGAGTTGCATCTTCCTTAGTA...   \n",
      "\n",
      "    mRNA.Expression.WT.Rep1  mRNA.Expression.WT.Rep2  mRNA.Expression.WT.Rep3  \\\n",
      "0              3.183135e+08             2.617708e+01                16.735333   \n",
      "1              1.095715e+03             2.836341e+00               102.980795   \n",
      "2              6.389135e+01             5.165643e+00                13.914518   \n",
      "3              1.629126e+00             2.097780e+01                 7.266207   \n",
      "4              3.619328e+00             7.207154e+00                 1.347365   \n",
      "5              2.051401e+00             2.426573e+00                 2.828441   \n",
      "6              1.420701e+00             1.889297e+02                41.085513   \n",
      "7              1.398400e+00             1.745494e+00                 4.394474   \n",
      "8              1.542461e+01             6.626171e+00              2601.618885   \n",
      "9              1.192412e+01             7.590675e+01                 5.193289   \n",
      "10             1.448975e+01             6.907693e+00                40.754710   \n",
      "11             2.529018e+01             2.711265e+00                48.099042   \n",
      "12             2.084163e+01             3.676616e+01              5213.843993   \n",
      "13             1.985791e+01             3.451715e+00                 2.631587   \n",
      "14             2.083291e+01             2.177370e+02                 3.233944   \n",
      "15             9.898111e+00             2.371426e+00               101.458408   \n",
      "16             1.526431e+01             8.096419e+01              3424.066726   \n",
      "17             7.000103e+01             7.586692e+00                15.203448   \n",
      "18             3.167661e+00             3.178356e+06                 3.828825   \n",
      "19             1.275853e+00             4.984930e+00               579.911931   \n",
      "20             2.957537e+03             1.212094e+02              6972.993774   \n",
      "21             5.082913e+01             3.643738e+01                 3.557495   \n",
      "22             1.659143e+00             3.507586e+01                 5.160287   \n",
      "23             1.456615e+01             4.522117e+02                28.776312   \n",
      "24             1.414395e+02             2.094474e+00                36.495808   \n",
      "25             1.047493e+01             1.606940e+00                12.221720   \n",
      "26             1.326338e+01             1.499897e+04                18.850805   \n",
      "27             2.102974e+00             1.515792e+01               292.599057   \n",
      "28             3.116317e+01             1.486652e+00               169.729719   \n",
      "29             1.214263e+00             2.184994e+03                 5.594552   \n",
      "30             3.101426e+00             1.296978e+00                 2.229640   \n",
      "31             5.455005e+00             3.652348e+00                 7.800440   \n",
      "32             9.274787e+00             4.049811e+00                 1.390097   \n",
      "33             1.903438e+01             7.226075e+01                 4.913832   \n",
      "34             6.795285e+00             4.743196e+00               102.607518   \n",
      "35             1.947039e+01             1.297314e+01                 1.485362   \n",
      "36             1.919623e+00             3.795354e+00             89224.180781   \n",
      "37             3.889706e+00             2.246475e+01                 2.581448   \n",
      "38             1.258681e+00             1.207254e+02                 4.055465   \n",
      "39             5.294364e+00             4.056522e+04               919.906250   \n",
      "40             1.172419e+01             3.111770e+00                10.100690   \n",
      "41             1.247090e+01             3.104196e+00                 7.150538   \n",
      "42             1.928546e+01             1.763281e+01                 3.303449   \n",
      "43             8.906599e+00             4.703782e+00                 2.376195   \n",
      "44             8.381353e+01             2.112520e+01                 4.553617   \n",
      "45             8.714593e+00             1.781935e+02               242.122106   \n",
      "46             4.441572e+01             8.935003e+05                 1.935091   \n",
      "47             2.684066e+03             2.721858e+00                 3.583935   \n",
      "48             6.135065e+00             5.653703e+00                 6.959204   \n",
      "\n",
      "    mRNA.Expression.Mut.Rep1  mRNA.Expression.Mut.Rep2  \\\n",
      "0               3.183135e+08              2.776962e+01   \n",
      "1               1.096189e+03              1.967358e+00   \n",
      "2               6.275914e+01              5.012645e+00   \n",
      "3              -3.674294e+00             -1.094399e+02   \n",
      "4               3.898224e+00              6.585581e+00   \n",
      "5               2.314567e+00              3.330794e+00   \n",
      "6               2.187604e+00              1.894642e+02   \n",
      "7               2.973012e+00              2.412630e+00   \n",
      "8               1.645078e+01              5.909056e+00   \n",
      "9               1.240818e+01              7.776683e+01   \n",
      "10              1.372184e+01              6.281659e+00   \n",
      "11              2.539605e+01              2.666513e+00   \n",
      "12              2.274574e+01              3.577278e+01   \n",
      "13              1.783861e+01              3.045175e+00   \n",
      "14              2.137605e+01              2.183631e+02   \n",
      "15              2.041802e+01              3.124716e+00   \n",
      "16              1.720745e+01              8.079714e+01   \n",
      "17              7.027179e+01              8.090897e+00   \n",
      "18              2.268305e+00              3.178356e+06   \n",
      "19              1.373348e+00              4.195603e+00   \n",
      "20              2.958819e+03              1.228810e+02   \n",
      "21              4.935668e+01              3.542484e+01   \n",
      "22              1.610762e+00              3.432237e+01   \n",
      "23              1.447568e+01              4.525731e+02   \n",
      "24              1.414743e+02              1.436076e+00   \n",
      "25              1.117780e+01              1.831528e+00   \n",
      "26              2.795824e-04             -1.167715e-03   \n",
      "27              2.378005e+00              1.589726e+01   \n",
      "28              3.009675e+01              2.011456e+00   \n",
      "29              1.262201e+00              2.186160e+03   \n",
      "30              4.776817e+00              4.061363e+00   \n",
      "31              5.885268e+00              3.806745e+00   \n",
      "32              1.097233e+01              6.040456e+00   \n",
      "33              1.826115e+01              7.280830e+01   \n",
      "34              6.106522e+00              4.414489e+00   \n",
      "35              1.931574e+01              1.315043e+01   \n",
      "36              3.721207e+00              3.809437e+00   \n",
      "37              2.739003e+00              2.156698e+01   \n",
      "38              1.421086e+00              1.210640e+02   \n",
      "39              1.400179e-03             -1.279884e-03   \n",
      "40              1.237694e+01              2.222421e+00   \n",
      "41              1.176865e+01              3.882929e+00   \n",
      "42              1.902854e+01              1.661068e+01   \n",
      "43              9.265527e+00              5.137846e+00   \n",
      "44              8.408202e+01              2.221321e+01   \n",
      "45              8.191727e+00              1.807249e+02   \n",
      "46              4.431399e+01              8.935011e+05   \n",
      "47              2.684251e+03              4.307114e+00   \n",
      "48              5.955017e+00              6.158652e+00   \n",
      "\n",
      "    mRNA.Expression.Mut.Rep3  Protein.Expression.WT.Rep1  ...  \\\n",
      "0                  17.761754                11685.000000  ...   \n",
      "1                 103.294908                12831.000000  ...   \n",
      "2                  13.013207                14317.000000  ...   \n",
      "3                  -5.597223                25803.000000  ...   \n",
      "4                   0.413255                44784.000000  ...   \n",
      "5                   1.848141                14355.000000  ...   \n",
      "6                  40.901972                30247.000000  ...   \n",
      "7                   6.489425                29811.000000  ...   \n",
      "8                2601.454682                  293.000000  ...   \n",
      "9                   4.709594                 5575.000000  ...   \n",
      "10                 42.405523                28563.000000  ...   \n",
      "11                 49.186680                25992.000000  ...   \n",
      "12               5213.722502                48979.000000  ...   \n",
      "13                  3.017050                48988.000000  ...   \n",
      "14                  4.300236                 5995.000000  ...   \n",
      "15                101.491889                25570.000000  ...   \n",
      "16               3423.955390                31972.000000  ...   \n",
      "17                 14.446720                28410.000000  ...   \n",
      "18                  2.285579                10686.000000  ...   \n",
      "19                580.849212                 6498.000000  ...   \n",
      "20               6972.853990                47460.000000  ...   \n",
      "21                  3.282341                13488.000000  ...   \n",
      "22                  4.651716                 5616.000000  ...   \n",
      "23                 30.152401                31419.000000  ...   \n",
      "24                 37.716855                34969.000000  ...   \n",
      "25                 13.311817                34284.000000  ...   \n",
      "26                  0.000955                    2.623488  ...   \n",
      "27                291.955096                21433.000000  ...   \n",
      "28                168.188026                45099.000000  ...   \n",
      "29                  7.560822                16108.000000  ...   \n",
      "30                  2.522727                12788.000000  ...   \n",
      "31                  6.674412                22855.000000  ...   \n",
      "32                  0.979053                49686.000000  ...   \n",
      "33                  5.370965                32965.000000  ...   \n",
      "34                101.795396                41931.000000  ...   \n",
      "35                  0.963567                39038.000000  ...   \n",
      "36              89226.217530                40995.000000  ...   \n",
      "37                  2.398317                20618.000000  ...   \n",
      "38                  4.226150                20244.000000  ...   \n",
      "39                  0.000367                    2.653321  ...   \n",
      "40                  9.403806                36189.000000  ...   \n",
      "41                  7.418300                21150.000000  ...   \n",
      "42                  4.146065                39594.000000  ...   \n",
      "43                  1.040266                31950.000000  ...   \n",
      "44                  3.487813                39325.000000  ...   \n",
      "45                241.836561                37073.000000  ...   \n",
      "46                  1.995033                 9879.000000  ...   \n",
      "47                  2.568555                17257.000000  ...   \n",
      "48                  5.566627                24794.000000  ...   \n",
      "\n",
      "    Protein.Expression.WT.Rep3  Protein.Expression.Mut.Rep1  \\\n",
      "0                 37123.000000                 11693.000000   \n",
      "1                 23695.000000                 12848.000000   \n",
      "2                 42445.000000                 14334.000000   \n",
      "3                  4047.000000                  8711.000000   \n",
      "4                  3517.000000                 44785.000000   \n",
      "5                 19951.000000                 14366.000000   \n",
      "6                 32712.000000                 30259.000000   \n",
      "7                 45335.000000                 54659.000000   \n",
      "8                 12874.000000                   304.000000   \n",
      "9                 43134.000000                  5585.000000   \n",
      "10                 2211.000000                 28570.000000   \n",
      "11                31383.000000                 26001.000000   \n",
      "12                27149.000000                 48992.000000   \n",
      "13                 7210.000000                 48994.000000   \n",
      "14                48358.000000                  5996.000000   \n",
      "15                10606.000000                 41200.000000   \n",
      "16                27347.000000                 31977.000000   \n",
      "17                20089.000000                 28419.000000   \n",
      "18                48037.000000                 10695.000000   \n",
      "19                23849.000000                  6513.000000   \n",
      "20                32980.000000                 47464.000000   \n",
      "21                22457.000000                 13494.000000   \n",
      "22                 3372.000000                  5631.000000   \n",
      "23                43786.000000                 31436.000000   \n",
      "24                44745.000000                 34987.000000   \n",
      "25                29186.000000                 34302.000000   \n",
      "26                   67.239142                     0.000703   \n",
      "27                 8270.000000                 21447.000000   \n",
      "28                45129.000000                 45102.000000   \n",
      "29                15620.000000                 16111.000000   \n",
      "30                14231.000000                 12793.000000   \n",
      "31                15247.000000                 22869.000000   \n",
      "32                39978.000000                 49698.000000   \n",
      "33                15375.000000                 32979.000000   \n",
      "34                21886.000000                 41941.000000   \n",
      "35                47690.000000                 39057.000000   \n",
      "36                 5969.000000                 41012.000000   \n",
      "37                49576.000000                     0.000000   \n",
      "38                48119.000000                 20248.000000   \n",
      "39                 2685.462894                    -0.000215   \n",
      "40                 1786.000000                 36192.000000   \n",
      "41                32685.000000                 21157.000000   \n",
      "42                37533.000000                 39596.000000   \n",
      "43                32943.000000                 31960.000000   \n",
      "44                38163.000000                 39334.000000   \n",
      "45                40106.000000                 37082.000000   \n",
      "46                31091.000000                  9884.000000   \n",
      "47                21470.000000                 17272.000000   \n",
      "48                26234.000000                 24796.000000   \n",
      "\n",
      "    Protein.Expression.Mut.Rep2  Protein.Expression.Mut.Rep3  \\\n",
      "0                  26726.000000                 37133.000000   \n",
      "1                  28360.000000                 23705.000000   \n",
      "2                   4914.000000                 42448.000000   \n",
      "3                  21503.000000                     0.000000   \n",
      "4                  32607.000000                  3530.000000   \n",
      "5                  14230.000000                 19953.000000   \n",
      "6                   5316.000000                 32722.000000   \n",
      "7                  55693.000000                 55698.000000   \n",
      "8                  20752.000000                 12887.000000   \n",
      "9                  13854.000000                 43153.000000   \n",
      "10                 10780.000000                  2229.000000   \n",
      "11                 27949.000000                 31399.000000   \n",
      "12                 33458.000000                 27163.000000   \n",
      "13                  4939.000000                  7221.000000   \n",
      "14                 37281.000000                 48368.000000   \n",
      "15                 42018.000000                 25348.000000   \n",
      "16                 29535.000000                 27360.000000   \n",
      "17                 22724.000000                 20096.000000   \n",
      "18                   639.000000                 48051.000000   \n",
      "19                  8420.000000                 23853.000000   \n",
      "20                 17232.000000                 32986.000000   \n",
      "21                  2685.000000                 22473.000000   \n",
      "22                  6201.000000                  3375.000000   \n",
      "23                  1673.000000                 43790.000000   \n",
      "24                 18004.000000                 44750.000000   \n",
      "25                  3828.000000                 29189.000000   \n",
      "26                    -0.000486                     0.000356   \n",
      "27                 20592.000000                  8285.000000   \n",
      "28                 45270.000000                 45147.000000   \n",
      "29                  8494.000000                 15635.000000   \n",
      "30                 23369.000000                 14238.000000   \n",
      "31                  3574.000000                 15264.000000   \n",
      "32                  5679.000000                 39994.000000   \n",
      "33                 44656.000000                 15380.000000   \n",
      "34                 19949.000000                 21897.000000   \n",
      "35                 17528.000000                 47691.000000   \n",
      "36                 37928.000000                  5970.000000   \n",
      "37                  2649.000000                 38138.000000   \n",
      "38                 39794.000000                 48122.000000   \n",
      "39                     0.001650                    -0.001010   \n",
      "40                 43062.000000                  1790.000000   \n",
      "41                  4863.000000                 32704.000000   \n",
      "42                 37212.000000                 37545.000000   \n",
      "43                 33691.000000                 32956.000000   \n",
      "44                 20796.000000                 38165.000000   \n",
      "45                 45766.000000                 40114.000000   \n",
      "46                 35831.000000                 31098.000000   \n",
      "47                 45857.000000                 21477.000000   \n",
      "48                 45294.000000                 26251.000000   \n",
      "\n",
      "    CellViability.WT.Rep1  CellViability.WT.Rep2  CellViability.WT.Rep3  \\\n",
      "0                0.261116               0.726898               0.633374   \n",
      "1                0.638670               0.069546               0.052844   \n",
      "2                0.062666               0.090101               0.256835   \n",
      "3                0.528095               0.765748               0.273578   \n",
      "4                0.412541               0.059328               0.476712   \n",
      "5                0.369637               0.897734               0.032582   \n",
      "6                0.490132               0.158531               0.956683   \n",
      "7                0.829231               0.301918               0.795280   \n",
      "8                0.299826               0.356182               0.078579   \n",
      "9                0.824217               0.134012               0.380950   \n",
      "10               0.966597               0.673726               0.656768   \n",
      "11               0.633514               0.956889               0.518404   \n",
      "12               0.925855               0.799526               0.801135   \n",
      "13               0.902357               0.554833               0.911485   \n",
      "14               0.959883               0.489168               0.292542   \n",
      "15               0.637916               0.149896               0.124796   \n",
      "16               0.750107               0.578995               0.165450   \n",
      "17               0.234393               0.444966               0.956367   \n",
      "18               0.108788               0.568027               0.022040   \n",
      "19               0.875603               0.728167               0.069858   \n",
      "20               0.331996               0.049631               0.378249   \n",
      "21               0.664845               0.730552               0.615055   \n",
      "22               0.321870               0.025695               0.191245   \n",
      "23               0.670425               0.296641               0.412660   \n",
      "24               0.719633               0.522793               0.780024   \n",
      "25               0.290673               0.866993               0.231848   \n",
      "26               0.977461               0.614380               0.011185   \n",
      "27               0.561890               0.547005               0.338208   \n",
      "28               0.470568               0.608639               0.055180   \n",
      "29               0.206683               0.503389               0.992147   \n",
      "30               0.809821               0.939004               0.302713   \n",
      "31               0.256647               0.888943               0.177289   \n",
      "32               0.951230               0.857137               0.992418   \n",
      "33               0.644496               0.372630               0.827481   \n",
      "34               0.814950               0.935588               0.390291   \n",
      "35               0.874521               0.479218               0.369667   \n",
      "36               0.771813               0.134726               0.238886   \n",
      "37               0.446488               0.090965               0.363501   \n",
      "38               0.031262               0.800916               0.293663   \n",
      "39               0.239166               0.829310               0.083308   \n",
      "40               0.677903               0.689930               0.744670   \n",
      "41               0.581339               0.701212               0.824285   \n",
      "42               0.485581               0.234779               0.221437   \n",
      "43               0.592977               0.077306               0.159934   \n",
      "44               0.401724               0.869801               0.641118   \n",
      "45               0.953551               0.055891               0.998288   \n",
      "46               0.315624               0.828561               0.651303   \n",
      "47               0.788764               0.568918               0.993146   \n",
      "48               0.469279               0.036950               0.822723   \n",
      "\n",
      "    CellViability.Mut.Rep1  CellViability.Mut.Rep2  CellViability.Mut.Rep3  \n",
      "0                 0.338555                0.750318                0.710077  \n",
      "1                 0.626906                0.193052               -0.124587  \n",
      "2                 0.074965                0.163613                0.220555  \n",
      "3                 0.000000                0.000000                0.000000  \n",
      "4                 0.184925                0.017589                0.460078  \n",
      "5                 0.412818                0.868593               -0.214058  \n",
      "6                 0.371288                0.269224                1.114989  \n",
      "7                 5.874721                6.243796                5.455045  \n",
      "8                 0.250787                0.470635                0.202058  \n",
      "9                 0.705345                0.103411                0.115955  \n",
      "10                0.910723                0.539587                0.573711  \n",
      "11                0.664322                0.970643                0.692276  \n",
      "12                0.946808                0.806410                0.835041  \n",
      "13                0.884963                0.605348                1.001523  \n",
      "14                1.289420                0.597407                0.367449  \n",
      "15                0.000000                0.000000                0.000000  \n",
      "16                0.824060                0.399295                0.228170  \n",
      "17                0.372857                0.674606                0.995486  \n",
      "18                0.286469                0.673888                0.136360  \n",
      "19                0.976800                0.915179                0.108256  \n",
      "20                0.457776               -0.002353                0.415037  \n",
      "21                0.623893                0.701228                0.681833  \n",
      "22                0.196819               -0.097945                0.113160  \n",
      "23                0.674413                0.469173                0.313026  \n",
      "24                0.711270                0.469014                0.909509  \n",
      "25                0.303535                0.865037                0.184100  \n",
      "26                3.168322                5.056845                6.921289  \n",
      "27                0.479171                0.449267                0.418182  \n",
      "28                0.486845                0.691326                0.095225  \n",
      "29                0.218725                0.516305                1.020349  \n",
      "30                0.855736                1.018941                0.197038  \n",
      "31                0.200034                0.792128                0.192362  \n",
      "32                0.881782                0.771269                1.026460  \n",
      "33                0.596889                0.300620                0.742188  \n",
      "34                0.736871                0.994222                0.323250  \n",
      "35                0.956722                0.481143                0.330220  \n",
      "36                0.769218               -0.021233                0.158277  \n",
      "37                5.760258                3.141456                5.309937  \n",
      "38                0.076434                0.681761                0.346697  \n",
      "39                0.000000                0.000000                0.000000  \n",
      "40                0.711556                0.778087                0.895447  \n",
      "41                0.522379                0.723943                0.874798  \n",
      "42                0.372787                0.164349                0.218920  \n",
      "43                0.539977                0.190372                0.088035  \n",
      "44                0.506207                0.788803                0.661602  \n",
      "45                1.080456               -0.013224                0.964838  \n",
      "46                0.358030                0.694173                0.696434  \n",
      "47                0.857577                0.418101                1.038044  \n",
      "48                0.405501               -0.024948                0.745752  \n",
      "\n",
      "[49 rows x 21 columns]\n"
     ]
    }
   ],
   "source": [
    "top_genes_table = combined_data[['Gene', 'WildType.Sequence', 'Mutant.Sequence',\n",
    "                                 'mRNA.Expression.WT.Rep1', 'mRNA.Expression.WT.Rep2', 'mRNA.Expression.WT.Rep3',\n",
    "                                 'mRNA.Expression.Mut.Rep1', 'mRNA.Expression.Mut.Rep2', 'mRNA.Expression.Mut.Rep3',\n",
    "                                 'Protein.Expression.WT.Rep1', 'Protein.Expression.WT.Rep2', 'Protein.Expression.WT.Rep3',\n",
    "                                 'Protein.Expression.Mut.Rep1', 'Protein.Expression.Mut.Rep2', 'Protein.Expression.Mut.Rep3',\n",
    "                                 'CellViability.WT.Rep1', 'CellViability.WT.Rep2', 'CellViability.WT.Rep3',\n",
    "                                 'CellViability.Mut.Rep1', 'CellViability.Mut.Rep2', 'CellViability.Mut.Rep3']]\n",
    "\n",
    "\n",
    "print(top_genes_table)"
   ]
  },
  {
   "cell_type": "code",
   "execution_count": 22,
   "id": "cab82484",
   "metadata": {
    "collapsed": true
   },
   "outputs": [
    {
     "name": "stdout",
     "output_type": "stream",
     "text": [
      "        Gene  Mutation in Promoter\n",
      "0        Ah3                  True\n",
      "1     Alli2r                  True\n",
      "2      Alli8                  True\n",
      "3    Anap7c1                  True\n",
      "4     App1l8                  True\n",
      "5       App8                  True\n",
      "6    Avon1a5                  True\n",
      "7      Avon4                  True\n",
      "8     Ben3l6                  True\n",
      "9       Bma9                  True\n",
      "10  Cairn1b8                  True\n",
      "11  Cairn3a2                  True\n",
      "12    Cairn6                  True\n",
      "13    Clach6                  True\n",
      "14    Daz2b7                  True\n",
      "15   Dsgt9a1                 False\n",
      "16   Emco9b6                  True\n",
      "17    Euk4r4                  True\n",
      "18   Ever6b6                  True\n",
      "19    Everr1                  True\n",
      "20    Fab6l6                  True\n",
      "21    Fab9r3                  True\n",
      "22     Ghos8                  True\n",
      "23   Gorm6b6                  True\n",
      "24      Got9                  True\n",
      "25      Ist3                  True\n",
      "26    Ist9a2                  True\n",
      "27    Ist9a7                  True\n",
      "28     Ist9a                  True\n",
      "29   Jams9r2                  True\n",
      "30    Jok4a3                  True\n",
      "31  Jtkir5r8                  True\n",
      "32  Jtkir8l4                  True\n",
      "33        K2                  True\n",
      "34      K7c7                  True\n",
      "35       Kl8                  True\n",
      "36     Mdor8                  True\n",
      "37   Nect1c1                  True\n",
      "38   Nect5r3                  True\n",
      "39    Oyu3a9                  True\n",
      "40   Pear4r9                  True\n",
      "41   Pear9a7                  True\n",
      "42    Peara8                  True\n",
      "43    Polge8                  True\n",
      "44      Ren8                  True\n",
      "45      Thxr                  True\n",
      "46    Try3a8                  True\n",
      "47   Urna4r5                  True\n",
      "48     Urna8                  True\n"
     ]
    }
   ],
   "source": [
    "def mutation_in_promoter(wildtype_sequence, mutant_sequence):\n",
    "    promoter_length = 1000\n",
    "    wildtype_promoter = wildtype_sequence[:promoter_length]\n",
    "    mutation_in_promoter = mutant_sequence[:promoter_length] != wildtype_promoter\n",
    "    return mutation_in_promoter\n",
    "\n",
    "combined_data['Mutation in Promoter'] = combined_data.apply(lambda row: mutation_in_promoter(row['WildType.Sequence'], row['Mutant.Sequence']), axis=1)\n",
    "\n",
    "\n",
    "print(combined_data[['Gene', 'Mutation in Promoter']])"
   ]
  },
  {
   "cell_type": "code",
   "execution_count": 55,
   "id": "b74ab4bb",
   "metadata": {},
   "outputs": [],
   "source": [
    "def analyze_cell_viability(df):\n",
    "    # Calculate mean cell viability for wildtype and mutant samples\n",
    "    wildtype_cell_viab = df[['CellViability.WT.Rep1', 'CellViability.WT.Rep2', 'CellViability.WT.Rep3']]\n",
    "    mutant_cell_viab = df[['CellViability.Mut.Rep1', 'CellViability.Mut.Rep2', 'CellViability.Mut.Rep3']]\n",
    "    # Compare cell viability levels between wildtype and mutant samples\n",
    "    cell_viab_diff = mutant_cell_viab - wildtype_cell_viab\n",
    "    return cell_viab_diff"
   ]
  },
  {
   "cell_type": "code",
   "execution_count": 57,
   "id": "7d6e146a",
   "metadata": {},
   "outputs": [],
   "source": [
    "def analyze_mRNA_expression(df):\n",
    "    # Calculate mean mRNA expression for wildtype and mutant samples\n",
    "    wildtype_mRNA_exp = df[['mRNA.Expression.WT.Rep1', 'mRNA.Expression.WT.Rep2', 'mRNA.Expression.WT.Rep3']]\n",
    "    mutant_mRNA_exp = df[['mRNA.Expression.Mut.Rep1', 'mRNA.Expression.Mut.Rep2', 'mRNA.Expression.Mut.Rep3']]\n",
    "    # Compare mRNA expression levels between wildtype and mutant samples\n",
    "    mRNA_exp_diff = mutant_mRNA_exp - wildtype_mRNA_exp\n",
    "    return mRNA_exp_diff"
   ]
  },
  {
   "cell_type": "code",
   "execution_count": 59,
   "id": "8b3b2d2e",
   "metadata": {},
   "outputs": [],
   "source": [
    "def analyze_protein_expression(df):\n",
    "    # Calculate mean protein expression for wildtype and mutant samples\n",
    "    wildtype_protein_exp = df[['Protein.Expression.WT.Rep1', 'Protein.Expression.WT.Rep2', 'Protein.Expression.WT.Rep3']]\n",
    "    mutant_protein_exp = df[['Protein.Expression.Mut.Rep1', 'Protein.Expression.Mut.Rep2', 'Protein.Expression.Mut.Rep3']]\n",
    "    # Compare protein expression levels between wildtype and mutant samples\n",
    "    protein_exp_diff = mutant_protein_exp - wildtype_protein_exp\n",
    "    return protein_exp_diff"
   ]
  },
  {
   "cell_type": "code",
   "execution_count": 24,
   "id": "1f899012",
   "metadata": {},
   "outputs": [
    {
     "name": "stdout",
     "output_type": "stream",
     "text": [
      "       Gene                                    Mutant.Sequence         Score\n",
      "0       Ah3  TGCCCGTCGTCAGAGGGTGGACGGTTACTATCAACGTCCGCTTCCA...  3.183891e+08\n",
      "18  Ever6b6  AAGTTATTCTACGGGCCCTCTATTGAATAGATAACCCAGGGGCGTG...  3.237747e+06\n",
      "46   Try3a8  GCCGGTATCAAGAAGTGAGTGTCTCAGTCATGGGGTGTCCGTGTAT...  9.703621e+05\n",
      "36    Mdor8  GCACAAATACCAAGGGCAAGTTTCTCAGGCGTTCTGGAACTAACTA...  1.741447e+05\n",
      "7     Avon4  TGAATCTAAGATTAAGTGGATATCGCCTTGACTTCTTTATCCATCC...  1.660794e+05\n"
     ]
    }
   ],
   "source": [
    "\n",
    "combined_data['Score'] = (combined_data['CellViability.Mut.Rep1'] + \n",
    "                          combined_data['CellViability.Mut.Rep2'] + \n",
    "                          combined_data['CellViability.Mut.Rep3'] + \n",
    "                          combined_data['mRNA.Expression.Mut.Rep1'] +\n",
    "                          combined_data['mRNA.Expression.Mut.Rep2'] +\n",
    "                          combined_data['mRNA.Expression.Mut.Rep3'] +\n",
    "                          combined_data['Protein.Expression.Mut.Rep1'] +\n",
    "                          combined_data['Protein.Expression.Mut.Rep2'] +\n",
    "                          combined_data['Protein.Expression.Mut.Rep3'])\n",
    "\n",
    "\n",
    "top_genes = combined_data.sort_values(by='Score', ascending=False).head(5)\n",
    "\n",
    "\n",
    "print(top_genes[['Gene', 'Mutant.Sequence', 'Score']])"
   ]
  },
  {
   "cell_type": "code",
   "execution_count": 45,
   "id": "1631be71",
   "metadata": {},
   "outputs": [
    {
     "name": "stdout",
     "output_type": "stream",
     "text": [
      "Gene                              object\n",
      "WildType.Sequence                 object\n",
      "Mutant.Sequence                   object\n",
      "mRNA.Expression.WT.Rep1          float64\n",
      "mRNA.Expression.WT.Rep2          float64\n",
      "mRNA.Expression.WT.Rep3          float64\n",
      "mRNA.Expression.Mut.Rep1         float64\n",
      "mRNA.Expression.Mut.Rep2         float64\n",
      "mRNA.Expression.Mut.Rep3         float64\n",
      "Protein.Expression.WT.Rep1       float64\n",
      "Protein.Expression.WT.Rep2       float64\n",
      "Protein.Expression.WT.Rep3       float64\n",
      "Protein.Expression.Mut.Rep1      float64\n",
      "Protein.Expression.Mut.Rep2      float64\n",
      "Protein.Expression.Mut.Rep3      float64\n",
      "CellViability.WT.Rep1            float64\n",
      "CellViability.WT.Rep2            float64\n",
      "CellViability.WT.Rep3            float64\n",
      "CellViability.Mut.Rep1           float64\n",
      "CellViability.Mut.Rep2           float64\n",
      "CellViability.Mut.Rep3           float64\n",
      "Mutation in Promoter                bool\n",
      "Score                            float64\n",
      "Mutation Type                     object\n",
      "mRNA Expression Difference       float64\n",
      "Protein Expression Difference    float64\n",
      "Cell Viability Difference        float64\n",
      "dtype: object\n"
     ]
    }
   ],
   "source": [
    "print(combined_data.dtypes)\n"
   ]
  },
  {
   "cell_type": "code",
   "execution_count": 60,
   "id": "52bbeb44",
   "metadata": {},
   "outputs": [],
   "source": [
    "import matplotlib.pyplot as plt \n",
    "import matplotlib as mpl\n",
    "import random \n",
    "\n",
    "import numpy as np"
   ]
  },
  {
   "cell_type": "code",
   "execution_count": 61,
   "id": "fc210311",
   "metadata": {},
   "outputs": [
    {
     "data": {
      "text/plain": [
       "<Figure size 640x480 with 0 Axes>"
      ]
     },
     "execution_count": 61,
     "metadata": {},
     "output_type": "execute_result"
    }
   ],
   "source": [
    "fig = plt.Figure()\n",
    "fig"
   ]
  },
  {
   "cell_type": "code",
   "execution_count": 62,
   "id": "3a6bd345",
   "metadata": {},
   "outputs": [
    {
     "data": {
      "text/plain": [
       "<Figure size 960x960 with 0 Axes>"
      ]
     },
     "execution_count": 62,
     "metadata": {},
     "output_type": "execute_result"
    }
   ],
   "source": [
    "fig = plt.Figure(figsize=(9.6, 9.6))\n",
    "fig"
   ]
  },
  {
   "cell_type": "code",
   "execution_count": 79,
   "id": "0431cbe9",
   "metadata": {},
   "outputs": [],
   "source": [
    "np.random.seed(50) \n",
    "groups = [\"Gene\", \"WildType.Sequence\", \"Mutant.Sequence\"]\n",
    "group_data =[random.choice(groups) for x in range(50)]\n",
    "var_data = np.random.randn(50) \n",
    "int_data = np.random.randint(0, 50, 50)"
   ]
  },
  {
   "cell_type": "code",
   "execution_count": 80,
   "id": "1fbc20fc",
   "metadata": {},
   "outputs": [],
   "source": [
    "plot_data = {\"groups\": group_data, \"vars\": var_data, \"counts\": int_data} "
   ]
  },
  {
   "cell_type": "code",
   "execution_count": 81,
   "id": "03c3bb58",
   "metadata": {
    "collapsed": true
   },
   "outputs": [
    {
     "data": {
      "image/png": "[encoded data removed]",
      "text/plain": [
       "<Figure size 400x400 with 1 Axes>"
      ]
     },
     "metadata": {},
     "output_type": "display_data"
    }
   ],
   "source": [
    "fig, ax = plt.subplots(figsize=(4, 4))"
   ]
  },
  {
   "cell_type": "code",
   "execution_count": 82,
   "id": "ab468f16",
   "metadata": {},
   "outputs": [
    {
     "data": {
      "text/plain": [
       "[<matplotlib.lines.Line2D at 0x2155b37dd90>]"
      ]
     },
     "execution_count": 82,
     "metadata": {},
     "output_type": "execute_result"
    }
   ],
   "source": [
    "ax.plot(plot_data[\"groups\"], plot_data[\"vars\"])"
   ]
  },
  {
   "cell_type": "code",
   "execution_count": 83,
   "id": "7126303c",
   "metadata": {
    "collapsed": true
   },
   "outputs": [
    {
     "data": {
      "image/png": "[encoded data removed]",
      "text/plain": [
       "<Figure size 700x500 with 1 Axes>"
      ]
     },
     "metadata": {},
     "output_type": "display_data"
    }
   ],
   "source": [
    "fig, ax = plt.subplots(figsize=(7, 5))\n",
    "ax.scatter(plot_data[\"counts\"], plot_data[\"vars\"])\n",
    "plt.show()"
   ]
  },
  {
   "cell_type": "code",
   "execution_count": 84,
   "id": "be3394bd",
   "metadata": {
    "collapsed": true
   },
   "outputs": [
    {
     "data": {
      "image/png": "[encoded data removed]",
      "text/plain": [
       "<Figure size 400x400 with 1 Axes>"
      ]
     },
     "metadata": {},
     "output_type": "display_data"
    }
   ],
   "source": [
    "fig, ax = plt.subplots(figsize=(4, 4))\n",
    "ax.hist(plot_data[\"vars\"], bins=5)\n",
    "plt.show()"
   ]
  },
  {
   "cell_type": "code",
   "execution_count": 87,
   "id": "35ba9886",
   "metadata": {},
   "outputs": [
    {
     "data": {
      "image/png": "[encoded data removed]",
      "text/plain": [
       "<Figure size 800x800 with 1 Axes>"
      ]
     },
     "metadata": {},
     "output_type": "display_data"
    }
   ],
   "source": [
    "bar_data = {}\n",
    "group_data = plot_data[\"groups\"]\n",
    "\n",
    "for val in set(group_data): # set() gives the unique values\n",
    "    val_list = [x for x in plot_data[\"groups\"] if x == val]\n",
    "    bar_data[val] = len(val_list)\n",
    "\n",
    "    \n",
    "fig, ax = plt.subplots(figsize=(8, 8))\n",
    "ax.bar(bar_data.keys(), bar_data.values(),\n",
    "       color=['red', 'blue', 'orange'],\n",
    "       label=bar_data.keys())\n",
    "ax.legend()\n",
    "plt.show()"
   ]
  },
  {
   "cell_type": "code",
   "execution_count": 90,
   "id": "9eb88c6b",
   "metadata": {},
   "outputs": [],
   "source": [
    "import seaborn as sbn\n",
    "import pandas as pd"
   ]
  },
  {
   "cell_type": "code",
   "execution_count": 92,
   "id": "69585a13",
   "metadata": {},
   "outputs": [
    {
     "data": {
      "text/html": [
       "<div>\n",
       "<style scoped>\n",
       "    .dataframe tbody tr th:only-of-type {\n",
       "        vertical-align: middle;\n",
       "    }\n",
       "\n",
       "    .dataframe tbody tr th {\n",
       "        vertical-align: top;\n",
       "    }\n",
       "\n",
       "    .dataframe thead th {\n",
       "        text-align: right;\n",
       "    }\n",
       "</style>\n",
       "<table border=\"1\" class=\"dataframe\">\n",
       "  <thead>\n",
       "    <tr style=\"text-align: right;\">\n",
       "      <th></th>\n",
       "      <th>groups</th>\n",
       "      <th>vars</th>\n",
       "      <th>counts</th>\n",
       "    </tr>\n",
       "  </thead>\n",
       "  <tbody>\n",
       "    <tr>\n",
       "      <th>0</th>\n",
       "      <td>Gene</td>\n",
       "      <td>-1.560352</td>\n",
       "      <td>43</td>\n",
       "    </tr>\n",
       "    <tr>\n",
       "      <th>1</th>\n",
       "      <td>Mutant.Sequence</td>\n",
       "      <td>-0.030978</td>\n",
       "      <td>35</td>\n",
       "    </tr>\n",
       "    <tr>\n",
       "      <th>2</th>\n",
       "      <td>WildType.Sequence</td>\n",
       "      <td>-0.620928</td>\n",
       "      <td>38</td>\n",
       "    </tr>\n",
       "    <tr>\n",
       "      <th>3</th>\n",
       "      <td>WildType.Sequence</td>\n",
       "      <td>-1.464580</td>\n",
       "      <td>27</td>\n",
       "    </tr>\n",
       "    <tr>\n",
       "      <th>4</th>\n",
       "      <td>Gene</td>\n",
       "      <td>1.411946</td>\n",
       "      <td>28</td>\n",
       "    </tr>\n",
       "  </tbody>\n",
       "</table>\n",
       "</div>"
      ],
      "text/plain": [
       "              groups      vars  counts\n",
       "0               Gene -1.560352      43\n",
       "1    Mutant.Sequence -0.030978      35\n",
       "2  WildType.Sequence -0.620928      38\n",
       "3  WildType.Sequence -1.464580      27\n",
       "4               Gene  1.411946      28"
      ]
     },
     "execution_count": 92,
     "metadata": {},
     "output_type": "execute_result"
    }
   ],
   "source": [
    "plot_df = pd.DataFrame(plot_data) \n",
    "plot_df.head()"
   ]
  },
  {
   "cell_type": "code",
   "execution_count": 93,
   "id": "1e54bce5",
   "metadata": {},
   "outputs": [
    {
     "data": {
      "text/plain": [
       "<Axes: xlabel='groups', ylabel='vars'>"
      ]
     },
     "execution_count": 93,
     "metadata": {},
     "output_type": "execute_result"
    },
    {
     "data": {
      "image/png": "[encoded data removed]",
      "text/plain": [
       "<Figure size 640x480 with 1 Axes>"
      ]
     },
     "metadata": {},
     "output_type": "display_data"
    }
   ],
   "source": [
    "sbn.boxplot(plot_df, x=\"groups\", y=\"vars\", hue=\"groups\")"
   ]
  },
  {
   "cell_type": "code",
   "execution_count": 97,
   "id": "8cd489d1",
   "metadata": {
    "scrolled": false
   },
   "outputs": [
    {
     "data": {
      "image/png": "[encoded data removed]",
      "text/plain": [
       "<Figure size 1000x400 with 2 Axes>"
      ]
     },
     "metadata": {},
     "output_type": "display_data"
    }
   ],
   "source": [
    "fig, ax = plt.subplots(ncols=2, nrows=1, figsize=(10, 4), layout=\"constrained\")\n",
    "sbn.boxplot(plot_df, x=\"groups\", y=\"vars\", hue=\"groups\", ax=ax[0])\n",
    "sbn.kdeplot(plot_df, x=\"counts\", hue=\"groups\", ax=ax[1])\n",
    "plt.show()"
   ]
  },
  {
   "cell_type": "code",
   "execution_count": null,
   "id": "cfbb2da5",
   "metadata": {},
   "outputs": [],
   "source": []
  }
 ],
 "metadata": {
  "kernelspec": {
   "display_name": "Python 3 (ipykernel)",
   "language": "python",
   "name": "python3"
  },
  "language_info": {
   "codemirror_mode": {
    "name": "ipython",
    "version": 3
   },
   "file_extension": ".py",
   "mimetype": "text/x-python",
   "name": "python",
   "nbconvert_exporter": "python",
   "pygments_lexer": "ipython3",
   "version": "3.11.5"
  }
 },
 "nbformat": 4,
 "nbformat_minor": 5
}
